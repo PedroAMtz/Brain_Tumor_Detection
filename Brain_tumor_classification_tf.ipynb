{
 "cells": [
  {
   "cell_type": "markdown",
   "id": "607d0081",
   "metadata": {},
   "source": [
    "# Brain Tumor Detection: Simple CNN implementation using tensorflow"
   ]
  },
  {
   "cell_type": "markdown",
   "id": "588309cb",
   "metadata": {},
   "source": [
    "**Objectives**\n",
    "* Implement a simple CNN for classification\n",
    "* Evaluate classification metrics\n",
    "* Evaluate hyperparameters tuning\n",
    "* Achieve good model performance"
   ]
  },
  {
   "cell_type": "code",
   "execution_count": null,
   "id": "6ad0604b",
   "metadata": {},
   "outputs": [],
   "source": []
  }
 ],
 "metadata": {
  "kernelspec": {
   "display_name": "myenv",
   "language": "python",
   "name": "myenv"
  },
  "language_info": {
   "codemirror_mode": {
    "name": "ipython",
    "version": 3
   },
   "file_extension": ".py",
   "mimetype": "text/x-python",
   "name": "python",
   "nbconvert_exporter": "python",
   "pygments_lexer": "ipython3",
   "version": "3.10.11"
  }
 },
 "nbformat": 4,
 "nbformat_minor": 5
}
